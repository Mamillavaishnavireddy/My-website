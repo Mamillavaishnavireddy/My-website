{
 "cells": [
  {
   "cell_type": "code",
   "execution_count": null,
   "id": "643cdf76",
   "metadata": {},
   "outputs": [],
   "source": [
    "Question1\n",
    "\n"
   ]
  }
 ],
 "metadata": {
  "kernelspec": {
   "display_name": "R",
   "language": "R",
   "name": "ir"
  }
 },
 "nbformat": 4,
 "nbformat_minor": 5
}
